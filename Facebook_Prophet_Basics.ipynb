{
  "nbformat": 4,
  "nbformat_minor": 0,
  "metadata": {
    "kernelspec": {
      "display_name": "Python 3",
      "language": "python",
      "name": "python3"
    },
    "language_info": {
      "codemirror_mode": {
        "name": "ipython",
        "version": 3
      },
      "file_extension": ".py",
      "mimetype": "text/x-python",
      "name": "python",
      "nbconvert_exporter": "python",
      "pygments_lexer": "ipython3",
      "version": "3.8.8"
    },
    "colab": {
      "name": "Facebook Prophet Basics.ipynb",
      "provenance": [],
      "collapsed_sections": []
    }
  },
  "cells": [
    {
      "cell_type": "markdown",
      "metadata": {
        "id": "6s-zV2g5ri_W"
      },
      "source": [
        "# Facebook Prophet Basics"
      ]
    },
    {
      "cell_type": "markdown",
      "metadata": {
        "id": "lzZXH4EXri_X"
      },
      "source": [
        "Facebook's Prophet Forecasting Library specifically designed to forecast the business data sets that are common at facebook (eg--Daily, Minute,Large data sets)\n",
        "\n",
        "At its core, the Prophet procedure is an additive regression model with 4 main components:\n",
        "* A piecewise linear or logistic growth curve trend. Prophet automatically detects changes in trends by selecting changepoints from the data\n",
        "* A yearly seasonal component modeled using fourier series.\n",
        "* A weekly seasonal component using dummy variables\n",
        "* A user provided list of important holidays\n"
      ]
    },
    {
      "cell_type": "markdown",
      "metadata": {
        "id": "OLMSuP9uri_Z"
      },
      "source": [
        "https://facebook.github.io/prophet/docs/installation.html#python "
      ]
    },
    {
      "cell_type": "markdown",
      "metadata": {
        "id": "id9ODDkXri_a"
      },
      "source": [
        "### Load Libraries"
      ]
    },
    {
      "cell_type": "code",
      "metadata": {
        "id": "5yyabwf5ri_b"
      },
      "source": [
        "import pandas as pd\n",
        "from fbprophet import Prophet"
      ],
      "execution_count": 1,
      "outputs": []
    },
    {
      "cell_type": "markdown",
      "metadata": {
        "id": "64XXcUq9ri_c"
      },
      "source": [
        "### Load Data\n",
        "\n",
        "The input to Prophet is always a dataframe with two columns: ds and y. The ds (datestamp) column should be of a format expected by Pandas, ideally YYYY-MM-DD for a date or YYYY-MM-DD HH:MM:SS for a timestamp. The y column must be numeric, and represents the measurement we wish to forecast."
      ]
    },
    {
      "cell_type": "code",
      "metadata": {
        "id": "OcgXPmeZri_d"
      },
      "source": [
        "df = pd.read_csv('/content/BeerWineLiquor.csv')"
      ],
      "execution_count": 2,
      "outputs": []
    },
    {
      "cell_type": "code",
      "metadata": {
        "colab": {
          "base_uri": "https://localhost:8080/",
          "height": 203
        },
        "id": "KkP2mi9Nri_e",
        "outputId": "69fabe09-da42-46b6-963e-7fdc1cfb2769"
      },
      "source": [
        "df.head()"
      ],
      "execution_count": 3,
      "outputs": [
        {
          "output_type": "execute_result",
          "data": {
            "text/html": [
              "<div>\n",
              "<style scoped>\n",
              "    .dataframe tbody tr th:only-of-type {\n",
              "        vertical-align: middle;\n",
              "    }\n",
              "\n",
              "    .dataframe tbody tr th {\n",
              "        vertical-align: top;\n",
              "    }\n",
              "\n",
              "    .dataframe thead th {\n",
              "        text-align: right;\n",
              "    }\n",
              "</style>\n",
              "<table border=\"1\" class=\"dataframe\">\n",
              "  <thead>\n",
              "    <tr style=\"text-align: right;\">\n",
              "      <th></th>\n",
              "      <th>date</th>\n",
              "      <th>beer</th>\n",
              "    </tr>\n",
              "  </thead>\n",
              "  <tbody>\n",
              "    <tr>\n",
              "      <th>0</th>\n",
              "      <td>1/1/1992</td>\n",
              "      <td>1509</td>\n",
              "    </tr>\n",
              "    <tr>\n",
              "      <th>1</th>\n",
              "      <td>2/1/1992</td>\n",
              "      <td>1541</td>\n",
              "    </tr>\n",
              "    <tr>\n",
              "      <th>2</th>\n",
              "      <td>3/1/1992</td>\n",
              "      <td>1597</td>\n",
              "    </tr>\n",
              "    <tr>\n",
              "      <th>3</th>\n",
              "      <td>4/1/1992</td>\n",
              "      <td>1675</td>\n",
              "    </tr>\n",
              "    <tr>\n",
              "      <th>4</th>\n",
              "      <td>5/1/1992</td>\n",
              "      <td>1822</td>\n",
              "    </tr>\n",
              "  </tbody>\n",
              "</table>\n",
              "</div>"
            ],
            "text/plain": [
              "       date  beer\n",
              "0  1/1/1992  1509\n",
              "1  2/1/1992  1541\n",
              "2  3/1/1992  1597\n",
              "3  4/1/1992  1675\n",
              "4  5/1/1992  1822"
            ]
          },
          "metadata": {},
          "execution_count": 3
        }
      ]
    },
    {
      "cell_type": "markdown",
      "metadata": {
        "id": "4FDw4Qoxri_f"
      },
      "source": [
        "### Format the Data"
      ]
    },
    {
      "cell_type": "code",
      "metadata": {
        "id": "G3o3kBhori_g"
      },
      "source": [
        "#Need to change the column names to 'ds' and 'y', otherwise it will not work\n",
        "df.columns = ['ds','y']"
      ],
      "execution_count": 4,
      "outputs": []
    },
    {
      "cell_type": "code",
      "metadata": {
        "id": "auG0-7Jyri_h"
      },
      "source": [
        "#Changing 'ds' column type to datetime\n",
        "df['ds'] = pd.to_datetime(df['ds'])"
      ],
      "execution_count": 5,
      "outputs": []
    },
    {
      "cell_type": "markdown",
      "metadata": {
        "id": "cL7PRvc4ri_h"
      },
      "source": [
        "## Create and Fit Model"
      ]
    },
    {
      "cell_type": "code",
      "metadata": {
        "colab": {
          "base_uri": "https://localhost:8080/"
        },
        "id": "gowRzltzri_i",
        "outputId": "5881d264-163f-4043-bbaf-b45e949d989a"
      },
      "source": [
        "# This is fitting on all the data (no train test split in this example)\n",
        "m = Prophet()\n",
        "m.fit(df)"
      ],
      "execution_count": 6,
      "outputs": [
        {
          "output_type": "stream",
          "text": [
            "INFO:numexpr.utils:NumExpr defaulting to 2 threads.\n",
            "INFO:fbprophet:Disabling weekly seasonality. Run prophet with weekly_seasonality=True to override this.\n",
            "INFO:fbprophet:Disabling daily seasonality. Run prophet with daily_seasonality=True to override this.\n"
          ],
          "name": "stderr"
        },
        {
          "output_type": "execute_result",
          "data": {
            "text/plain": [
              "<fbprophet.forecaster.Prophet at 0x7f5d115cb2d0>"
            ]
          },
          "metadata": {},
          "execution_count": 6
        }
      ]
    },
    {
      "cell_type": "markdown",
      "metadata": {
        "id": "2xrPIty0ri_i"
      },
      "source": [
        "## Forecasting\n",
        "\n",
        "### Step 1: Create \"future\" placeholder dataframe\n",
        "\n",
        "**NOTE: Prophet by default is for daily data. You need to pass a frequency for sub-daily or monthly data. Info: https://facebook.github.io/prophet/docs/non-daily_data.html**"
      ]
    },
    {
      "cell_type": "code",
      "metadata": {
        "id": "PLwsMP8Zri_j"
      },
      "source": [
        "future = m.make_future_dataframe(periods=24,freq = 'MS')"
      ],
      "execution_count": 7,
      "outputs": []
    },
    {
      "cell_type": "code",
      "metadata": {
        "colab": {
          "base_uri": "https://localhost:8080/",
          "height": 203
        },
        "id": "vW6dJD6rri_j",
        "outputId": "cf5df8e5-df8c-4140-ddbf-a52ccbc306b7"
      },
      "source": [
        "df.tail()"
      ],
      "execution_count": 8,
      "outputs": [
        {
          "output_type": "execute_result",
          "data": {
            "text/html": [
              "<div>\n",
              "<style scoped>\n",
              "    .dataframe tbody tr th:only-of-type {\n",
              "        vertical-align: middle;\n",
              "    }\n",
              "\n",
              "    .dataframe tbody tr th {\n",
              "        vertical-align: top;\n",
              "    }\n",
              "\n",
              "    .dataframe thead th {\n",
              "        text-align: right;\n",
              "    }\n",
              "</style>\n",
              "<table border=\"1\" class=\"dataframe\">\n",
              "  <thead>\n",
              "    <tr style=\"text-align: right;\">\n",
              "      <th></th>\n",
              "      <th>ds</th>\n",
              "      <th>y</th>\n",
              "    </tr>\n",
              "  </thead>\n",
              "  <tbody>\n",
              "    <tr>\n",
              "      <th>319</th>\n",
              "      <td>2018-08-01</td>\n",
              "      <td>4898</td>\n",
              "    </tr>\n",
              "    <tr>\n",
              "      <th>320</th>\n",
              "      <td>2018-09-01</td>\n",
              "      <td>4598</td>\n",
              "    </tr>\n",
              "    <tr>\n",
              "      <th>321</th>\n",
              "      <td>2018-10-01</td>\n",
              "      <td>4737</td>\n",
              "    </tr>\n",
              "    <tr>\n",
              "      <th>322</th>\n",
              "      <td>2018-11-01</td>\n",
              "      <td>5130</td>\n",
              "    </tr>\n",
              "    <tr>\n",
              "      <th>323</th>\n",
              "      <td>2018-12-01</td>\n",
              "      <td>6370</td>\n",
              "    </tr>\n",
              "  </tbody>\n",
              "</table>\n",
              "</div>"
            ],
            "text/plain": [
              "            ds     y\n",
              "319 2018-08-01  4898\n",
              "320 2018-09-01  4598\n",
              "321 2018-10-01  4737\n",
              "322 2018-11-01  5130\n",
              "323 2018-12-01  6370"
            ]
          },
          "metadata": {},
          "execution_count": 8
        }
      ]
    },
    {
      "cell_type": "code",
      "metadata": {
        "colab": {
          "base_uri": "https://localhost:8080/",
          "height": 203
        },
        "id": "zfjfP3ydri_j",
        "outputId": "57aafbc1-3c46-419d-aed4-8abd0cd02e04"
      },
      "source": [
        "future.tail()"
      ],
      "execution_count": 9,
      "outputs": [
        {
          "output_type": "execute_result",
          "data": {
            "text/html": [
              "<div>\n",
              "<style scoped>\n",
              "    .dataframe tbody tr th:only-of-type {\n",
              "        vertical-align: middle;\n",
              "    }\n",
              "\n",
              "    .dataframe tbody tr th {\n",
              "        vertical-align: top;\n",
              "    }\n",
              "\n",
              "    .dataframe thead th {\n",
              "        text-align: right;\n",
              "    }\n",
              "</style>\n",
              "<table border=\"1\" class=\"dataframe\">\n",
              "  <thead>\n",
              "    <tr style=\"text-align: right;\">\n",
              "      <th></th>\n",
              "      <th>ds</th>\n",
              "    </tr>\n",
              "  </thead>\n",
              "  <tbody>\n",
              "    <tr>\n",
              "      <th>343</th>\n",
              "      <td>2020-08-01</td>\n",
              "    </tr>\n",
              "    <tr>\n",
              "      <th>344</th>\n",
              "      <td>2020-09-01</td>\n",
              "    </tr>\n",
              "    <tr>\n",
              "      <th>345</th>\n",
              "      <td>2020-10-01</td>\n",
              "    </tr>\n",
              "    <tr>\n",
              "      <th>346</th>\n",
              "      <td>2020-11-01</td>\n",
              "    </tr>\n",
              "    <tr>\n",
              "      <th>347</th>\n",
              "      <td>2020-12-01</td>\n",
              "    </tr>\n",
              "  </tbody>\n",
              "</table>\n",
              "</div>"
            ],
            "text/plain": [
              "            ds\n",
              "343 2020-08-01\n",
              "344 2020-09-01\n",
              "345 2020-10-01\n",
              "346 2020-11-01\n",
              "347 2020-12-01"
            ]
          },
          "metadata": {},
          "execution_count": 9
        }
      ]
    },
    {
      "cell_type": "code",
      "metadata": {
        "colab": {
          "base_uri": "https://localhost:8080/"
        },
        "id": "HqbskWcnri_k",
        "outputId": "8e5d846b-6d66-4aa6-b8e0-80e5282c91f7"
      },
      "source": [
        "len(df)"
      ],
      "execution_count": 10,
      "outputs": [
        {
          "output_type": "execute_result",
          "data": {
            "text/plain": [
              "324"
            ]
          },
          "metadata": {},
          "execution_count": 10
        }
      ]
    },
    {
      "cell_type": "code",
      "metadata": {
        "colab": {
          "base_uri": "https://localhost:8080/"
        },
        "id": "wPQGoEVfri_k",
        "outputId": "63d6c833-8ee0-405b-dfcb-2c585ca9c0ae"
      },
      "source": [
        "len(future)"
      ],
      "execution_count": 11,
      "outputs": [
        {
          "output_type": "execute_result",
          "data": {
            "text/plain": [
              "348"
            ]
          },
          "metadata": {},
          "execution_count": 11
        }
      ]
    },
    {
      "cell_type": "markdown",
      "metadata": {
        "id": "XSHNvKYHri_k"
      },
      "source": [
        "\n",
        "### Step 2: Predict and fill in the Future"
      ]
    },
    {
      "cell_type": "code",
      "metadata": {
        "id": "QnTZInQ-ri_l"
      },
      "source": [
        "forecast = m.predict(future)"
      ],
      "execution_count": 12,
      "outputs": []
    },
    {
      "cell_type": "code",
      "metadata": {
        "colab": {
          "base_uri": "https://localhost:8080/",
          "height": 307
        },
        "id": "LEsLKQS-ri_l",
        "outputId": "5d62a4b1-38c3-44e7-cffa-c9421d88ce9c"
      },
      "source": [
        "forecast.head()"
      ],
      "execution_count": 13,
      "outputs": [
        {
          "output_type": "execute_result",
          "data": {
            "text/html": [
              "<div>\n",
              "<style scoped>\n",
              "    .dataframe tbody tr th:only-of-type {\n",
              "        vertical-align: middle;\n",
              "    }\n",
              "\n",
              "    .dataframe tbody tr th {\n",
              "        vertical-align: top;\n",
              "    }\n",
              "\n",
              "    .dataframe thead th {\n",
              "        text-align: right;\n",
              "    }\n",
              "</style>\n",
              "<table border=\"1\" class=\"dataframe\">\n",
              "  <thead>\n",
              "    <tr style=\"text-align: right;\">\n",
              "      <th></th>\n",
              "      <th>ds</th>\n",
              "      <th>trend</th>\n",
              "      <th>yhat_lower</th>\n",
              "      <th>yhat_upper</th>\n",
              "      <th>trend_lower</th>\n",
              "      <th>trend_upper</th>\n",
              "      <th>additive_terms</th>\n",
              "      <th>additive_terms_lower</th>\n",
              "      <th>additive_terms_upper</th>\n",
              "      <th>yearly</th>\n",
              "      <th>yearly_lower</th>\n",
              "      <th>yearly_upper</th>\n",
              "      <th>multiplicative_terms</th>\n",
              "      <th>multiplicative_terms_lower</th>\n",
              "      <th>multiplicative_terms_upper</th>\n",
              "      <th>yhat</th>\n",
              "    </tr>\n",
              "  </thead>\n",
              "  <tbody>\n",
              "    <tr>\n",
              "      <th>0</th>\n",
              "      <td>1992-01-01</td>\n",
              "      <td>1774.512619</td>\n",
              "      <td>1156.188162</td>\n",
              "      <td>1473.798241</td>\n",
              "      <td>1774.512619</td>\n",
              "      <td>1774.512619</td>\n",
              "      <td>-461.755050</td>\n",
              "      <td>-461.755050</td>\n",
              "      <td>-461.755050</td>\n",
              "      <td>-461.755050</td>\n",
              "      <td>-461.755050</td>\n",
              "      <td>-461.755050</td>\n",
              "      <td>0.0</td>\n",
              "      <td>0.0</td>\n",
              "      <td>0.0</td>\n",
              "      <td>1312.757569</td>\n",
              "    </tr>\n",
              "    <tr>\n",
              "      <th>1</th>\n",
              "      <td>1992-02-01</td>\n",
              "      <td>1777.322689</td>\n",
              "      <td>1190.765196</td>\n",
              "      <td>1518.936442</td>\n",
              "      <td>1777.322689</td>\n",
              "      <td>1777.322689</td>\n",
              "      <td>-427.146658</td>\n",
              "      <td>-427.146658</td>\n",
              "      <td>-427.146658</td>\n",
              "      <td>-427.146658</td>\n",
              "      <td>-427.146658</td>\n",
              "      <td>-427.146658</td>\n",
              "      <td>0.0</td>\n",
              "      <td>0.0</td>\n",
              "      <td>0.0</td>\n",
              "      <td>1350.176031</td>\n",
              "    </tr>\n",
              "    <tr>\n",
              "      <th>2</th>\n",
              "      <td>1992-03-01</td>\n",
              "      <td>1779.951464</td>\n",
              "      <td>1451.778740</td>\n",
              "      <td>1762.992080</td>\n",
              "      <td>1779.951464</td>\n",
              "      <td>1779.951464</td>\n",
              "      <td>-178.912314</td>\n",
              "      <td>-178.912314</td>\n",
              "      <td>-178.912314</td>\n",
              "      <td>-178.912314</td>\n",
              "      <td>-178.912314</td>\n",
              "      <td>-178.912314</td>\n",
              "      <td>0.0</td>\n",
              "      <td>0.0</td>\n",
              "      <td>0.0</td>\n",
              "      <td>1601.039150</td>\n",
              "    </tr>\n",
              "    <tr>\n",
              "      <th>3</th>\n",
              "      <td>1992-04-01</td>\n",
              "      <td>1782.761533</td>\n",
              "      <td>1423.517650</td>\n",
              "      <td>1748.349222</td>\n",
              "      <td>1782.761533</td>\n",
              "      <td>1782.761533</td>\n",
              "      <td>-196.056786</td>\n",
              "      <td>-196.056786</td>\n",
              "      <td>-196.056786</td>\n",
              "      <td>-196.056786</td>\n",
              "      <td>-196.056786</td>\n",
              "      <td>-196.056786</td>\n",
              "      <td>0.0</td>\n",
              "      <td>0.0</td>\n",
              "      <td>0.0</td>\n",
              "      <td>1586.704747</td>\n",
              "    </tr>\n",
              "    <tr>\n",
              "      <th>4</th>\n",
              "      <td>1992-05-01</td>\n",
              "      <td>1785.480956</td>\n",
              "      <td>1668.579248</td>\n",
              "      <td>2005.270668</td>\n",
              "      <td>1785.480956</td>\n",
              "      <td>1785.480956</td>\n",
              "      <td>45.197326</td>\n",
              "      <td>45.197326</td>\n",
              "      <td>45.197326</td>\n",
              "      <td>45.197326</td>\n",
              "      <td>45.197326</td>\n",
              "      <td>45.197326</td>\n",
              "      <td>0.0</td>\n",
              "      <td>0.0</td>\n",
              "      <td>0.0</td>\n",
              "      <td>1830.678281</td>\n",
              "    </tr>\n",
              "  </tbody>\n",
              "</table>\n",
              "</div>"
            ],
            "text/plain": [
              "          ds        trend  ...  multiplicative_terms_upper         yhat\n",
              "0 1992-01-01  1774.512619  ...                         0.0  1312.757569\n",
              "1 1992-02-01  1777.322689  ...                         0.0  1350.176031\n",
              "2 1992-03-01  1779.951464  ...                         0.0  1601.039150\n",
              "3 1992-04-01  1782.761533  ...                         0.0  1586.704747\n",
              "4 1992-05-01  1785.480956  ...                         0.0  1830.678281\n",
              "\n",
              "[5 rows x 16 columns]"
            ]
          },
          "metadata": {},
          "execution_count": 13
        }
      ]
    },
    {
      "cell_type": "code",
      "metadata": {
        "colab": {
          "base_uri": "https://localhost:8080/",
          "height": 307
        },
        "id": "ZGud2eMiri_m",
        "outputId": "6b45c57e-8a64-411c-adea-27159ed38a2f"
      },
      "source": [
        "forecast.tail()"
      ],
      "execution_count": 14,
      "outputs": [
        {
          "output_type": "execute_result",
          "data": {
            "text/html": [
              "<div>\n",
              "<style scoped>\n",
              "    .dataframe tbody tr th:only-of-type {\n",
              "        vertical-align: middle;\n",
              "    }\n",
              "\n",
              "    .dataframe tbody tr th {\n",
              "        vertical-align: top;\n",
              "    }\n",
              "\n",
              "    .dataframe thead th {\n",
              "        text-align: right;\n",
              "    }\n",
              "</style>\n",
              "<table border=\"1\" class=\"dataframe\">\n",
              "  <thead>\n",
              "    <tr style=\"text-align: right;\">\n",
              "      <th></th>\n",
              "      <th>ds</th>\n",
              "      <th>trend</th>\n",
              "      <th>yhat_lower</th>\n",
              "      <th>yhat_upper</th>\n",
              "      <th>trend_lower</th>\n",
              "      <th>trend_upper</th>\n",
              "      <th>additive_terms</th>\n",
              "      <th>additive_terms_lower</th>\n",
              "      <th>additive_terms_upper</th>\n",
              "      <th>yearly</th>\n",
              "      <th>yearly_lower</th>\n",
              "      <th>yearly_upper</th>\n",
              "      <th>multiplicative_terms</th>\n",
              "      <th>multiplicative_terms_lower</th>\n",
              "      <th>multiplicative_terms_upper</th>\n",
              "      <th>yhat</th>\n",
              "    </tr>\n",
              "  </thead>\n",
              "  <tbody>\n",
              "    <tr>\n",
              "      <th>343</th>\n",
              "      <td>2020-08-01</td>\n",
              "      <td>5200.687845</td>\n",
              "      <td>5075.544728</td>\n",
              "      <td>5406.006240</td>\n",
              "      <td>5186.894115</td>\n",
              "      <td>5212.390914</td>\n",
              "      <td>39.924918</td>\n",
              "      <td>39.924918</td>\n",
              "      <td>39.924918</td>\n",
              "      <td>39.924918</td>\n",
              "      <td>39.924918</td>\n",
              "      <td>39.924918</td>\n",
              "      <td>0.0</td>\n",
              "      <td>0.0</td>\n",
              "      <td>0.0</td>\n",
              "      <td>5240.612763</td>\n",
              "    </tr>\n",
              "    <tr>\n",
              "      <th>344</th>\n",
              "      <td>2020-09-01</td>\n",
              "      <td>5216.751615</td>\n",
              "      <td>4909.258281</td>\n",
              "      <td>5246.702523</td>\n",
              "      <td>5201.767341</td>\n",
              "      <td>5229.440851</td>\n",
              "      <td>-133.372206</td>\n",
              "      <td>-133.372206</td>\n",
              "      <td>-133.372206</td>\n",
              "      <td>-133.372206</td>\n",
              "      <td>-133.372206</td>\n",
              "      <td>-133.372206</td>\n",
              "      <td>0.0</td>\n",
              "      <td>0.0</td>\n",
              "      <td>0.0</td>\n",
              "      <td>5083.379410</td>\n",
              "    </tr>\n",
              "    <tr>\n",
              "      <th>345</th>\n",
              "      <td>2020-10-01</td>\n",
              "      <td>5232.297199</td>\n",
              "      <td>5027.317597</td>\n",
              "      <td>5353.442509</td>\n",
              "      <td>5216.500095</td>\n",
              "      <td>5246.110248</td>\n",
              "      <td>-43.375085</td>\n",
              "      <td>-43.375085</td>\n",
              "      <td>-43.375085</td>\n",
              "      <td>-43.375085</td>\n",
              "      <td>-43.375085</td>\n",
              "      <td>-43.375085</td>\n",
              "      <td>0.0</td>\n",
              "      <td>0.0</td>\n",
              "      <td>0.0</td>\n",
              "      <td>5188.922115</td>\n",
              "    </tr>\n",
              "    <tr>\n",
              "      <th>346</th>\n",
              "      <td>2020-11-01</td>\n",
              "      <td>5248.360970</td>\n",
              "      <td>5171.836423</td>\n",
              "      <td>5505.050410</td>\n",
              "      <td>5231.083511</td>\n",
              "      <td>5263.526424</td>\n",
              "      <td>87.856779</td>\n",
              "      <td>87.856779</td>\n",
              "      <td>87.856779</td>\n",
              "      <td>87.856779</td>\n",
              "      <td>87.856779</td>\n",
              "      <td>87.856779</td>\n",
              "      <td>0.0</td>\n",
              "      <td>0.0</td>\n",
              "      <td>0.0</td>\n",
              "      <td>5336.217749</td>\n",
              "    </tr>\n",
              "    <tr>\n",
              "      <th>347</th>\n",
              "      <td>2020-12-01</td>\n",
              "      <td>5263.906554</td>\n",
              "      <td>6171.543277</td>\n",
              "      <td>6506.822087</td>\n",
              "      <td>5245.499317</td>\n",
              "      <td>5280.291234</td>\n",
              "      <td>1070.533455</td>\n",
              "      <td>1070.533455</td>\n",
              "      <td>1070.533455</td>\n",
              "      <td>1070.533455</td>\n",
              "      <td>1070.533455</td>\n",
              "      <td>1070.533455</td>\n",
              "      <td>0.0</td>\n",
              "      <td>0.0</td>\n",
              "      <td>0.0</td>\n",
              "      <td>6334.440008</td>\n",
              "    </tr>\n",
              "  </tbody>\n",
              "</table>\n",
              "</div>"
            ],
            "text/plain": [
              "            ds        trend  ...  multiplicative_terms_upper         yhat\n",
              "343 2020-08-01  5200.687845  ...                         0.0  5240.612763\n",
              "344 2020-09-01  5216.751615  ...                         0.0  5083.379410\n",
              "345 2020-10-01  5232.297199  ...                         0.0  5188.922115\n",
              "346 2020-11-01  5248.360970  ...                         0.0  5336.217749\n",
              "347 2020-12-01  5263.906554  ...                         0.0  6334.440008\n",
              "\n",
              "[5 rows x 16 columns]"
            ]
          },
          "metadata": {},
          "execution_count": 14
        }
      ]
    },
    {
      "cell_type": "code",
      "metadata": {
        "colab": {
          "base_uri": "https://localhost:8080/"
        },
        "id": "s0EDTzZRri_m",
        "outputId": "327d2e2b-3788-4b3c-be99-28b0482b8462"
      },
      "source": [
        "forecast.columns"
      ],
      "execution_count": 15,
      "outputs": [
        {
          "output_type": "execute_result",
          "data": {
            "text/plain": [
              "Index(['ds', 'trend', 'yhat_lower', 'yhat_upper', 'trend_lower', 'trend_upper',\n",
              "       'additive_terms', 'additive_terms_lower', 'additive_terms_upper',\n",
              "       'yearly', 'yearly_lower', 'yearly_upper', 'multiplicative_terms',\n",
              "       'multiplicative_terms_lower', 'multiplicative_terms_upper', 'yhat'],\n",
              "      dtype='object')"
            ]
          },
          "metadata": {},
          "execution_count": 15
        }
      ]
    },
    {
      "cell_type": "code",
      "metadata": {
        "colab": {
          "base_uri": "https://localhost:8080/",
          "height": 418
        },
        "id": "eImZyGY1ri_n",
        "outputId": "a34ad959-60a7-443b-bba5-0b1bce7a80c8"
      },
      "source": [
        "forecast[['ds', 'yhat', 'yhat_lower', 'yhat_upper']].tail(12)"
      ],
      "execution_count": 16,
      "outputs": [
        {
          "output_type": "execute_result",
          "data": {
            "text/html": [
              "<div>\n",
              "<style scoped>\n",
              "    .dataframe tbody tr th:only-of-type {\n",
              "        vertical-align: middle;\n",
              "    }\n",
              "\n",
              "    .dataframe tbody tr th {\n",
              "        vertical-align: top;\n",
              "    }\n",
              "\n",
              "    .dataframe thead th {\n",
              "        text-align: right;\n",
              "    }\n",
              "</style>\n",
              "<table border=\"1\" class=\"dataframe\">\n",
              "  <thead>\n",
              "    <tr style=\"text-align: right;\">\n",
              "      <th></th>\n",
              "      <th>ds</th>\n",
              "      <th>yhat</th>\n",
              "      <th>yhat_lower</th>\n",
              "      <th>yhat_upper</th>\n",
              "    </tr>\n",
              "  </thead>\n",
              "  <tbody>\n",
              "    <tr>\n",
              "      <th>336</th>\n",
              "      <td>2020-01-01</td>\n",
              "      <td>4628.559148</td>\n",
              "      <td>4468.901726</td>\n",
              "      <td>4790.574083</td>\n",
              "    </tr>\n",
              "    <tr>\n",
              "      <th>337</th>\n",
              "      <td>2020-02-01</td>\n",
              "      <td>4679.231311</td>\n",
              "      <td>4506.754587</td>\n",
              "      <td>4838.556245</td>\n",
              "    </tr>\n",
              "    <tr>\n",
              "      <th>338</th>\n",
              "      <td>2020-03-01</td>\n",
              "      <td>4942.493052</td>\n",
              "      <td>4789.196823</td>\n",
              "      <td>5095.660041</td>\n",
              "    </tr>\n",
              "    <tr>\n",
              "      <th>339</th>\n",
              "      <td>2020-04-01</td>\n",
              "      <td>4941.412350</td>\n",
              "      <td>4781.150220</td>\n",
              "      <td>5108.579440</td>\n",
              "    </tr>\n",
              "    <tr>\n",
              "      <th>340</th>\n",
              "      <td>2020-05-01</td>\n",
              "      <td>5198.212046</td>\n",
              "      <td>5048.798338</td>\n",
              "      <td>5351.879439</td>\n",
              "    </tr>\n",
              "    <tr>\n",
              "      <th>341</th>\n",
              "      <td>2020-06-01</td>\n",
              "      <td>5178.840512</td>\n",
              "      <td>5008.766671</td>\n",
              "      <td>5340.119588</td>\n",
              "    </tr>\n",
              "    <tr>\n",
              "      <th>342</th>\n",
              "      <td>2020-07-01</td>\n",
              "      <td>5311.075537</td>\n",
              "      <td>5145.646613</td>\n",
              "      <td>5479.474473</td>\n",
              "    </tr>\n",
              "    <tr>\n",
              "      <th>343</th>\n",
              "      <td>2020-08-01</td>\n",
              "      <td>5240.612763</td>\n",
              "      <td>5075.544728</td>\n",
              "      <td>5406.006240</td>\n",
              "    </tr>\n",
              "    <tr>\n",
              "      <th>344</th>\n",
              "      <td>2020-09-01</td>\n",
              "      <td>5083.379410</td>\n",
              "      <td>4909.258281</td>\n",
              "      <td>5246.702523</td>\n",
              "    </tr>\n",
              "    <tr>\n",
              "      <th>345</th>\n",
              "      <td>2020-10-01</td>\n",
              "      <td>5188.922115</td>\n",
              "      <td>5027.317597</td>\n",
              "      <td>5353.442509</td>\n",
              "    </tr>\n",
              "    <tr>\n",
              "      <th>346</th>\n",
              "      <td>2020-11-01</td>\n",
              "      <td>5336.217749</td>\n",
              "      <td>5171.836423</td>\n",
              "      <td>5505.050410</td>\n",
              "    </tr>\n",
              "    <tr>\n",
              "      <th>347</th>\n",
              "      <td>2020-12-01</td>\n",
              "      <td>6334.440008</td>\n",
              "      <td>6171.543277</td>\n",
              "      <td>6506.822087</td>\n",
              "    </tr>\n",
              "  </tbody>\n",
              "</table>\n",
              "</div>"
            ],
            "text/plain": [
              "            ds         yhat   yhat_lower   yhat_upper\n",
              "336 2020-01-01  4628.559148  4468.901726  4790.574083\n",
              "337 2020-02-01  4679.231311  4506.754587  4838.556245\n",
              "338 2020-03-01  4942.493052  4789.196823  5095.660041\n",
              "339 2020-04-01  4941.412350  4781.150220  5108.579440\n",
              "340 2020-05-01  5198.212046  5048.798338  5351.879439\n",
              "341 2020-06-01  5178.840512  5008.766671  5340.119588\n",
              "342 2020-07-01  5311.075537  5145.646613  5479.474473\n",
              "343 2020-08-01  5240.612763  5075.544728  5406.006240\n",
              "344 2020-09-01  5083.379410  4909.258281  5246.702523\n",
              "345 2020-10-01  5188.922115  5027.317597  5353.442509\n",
              "346 2020-11-01  5336.217749  5171.836423  5505.050410\n",
              "347 2020-12-01  6334.440008  6171.543277  6506.822087"
            ]
          },
          "metadata": {},
          "execution_count": 16
        }
      ]
    },
    {
      "cell_type": "markdown",
      "metadata": {
        "id": "iIRMa0w-ri_n"
      },
      "source": [
        "### Plotting Forecast\n",
        "\n",
        "We can use Prophet's own built in plotting tools"
      ]
    },
    {
      "cell_type": "code",
      "metadata": {
        "colab": {
          "base_uri": "https://localhost:8080/",
          "height": 441
        },
        "id": "V8iATufZri_n",
        "outputId": "cac68110-32a4-423d-b7fe-51185a0f7cf8"
      },
      "source": [
        "m.plot(forecast);"
      ],
      "execution_count": 17,
      "outputs": [
        {
          "output_type": "display_data",
          "data": {
            "image/png": "[encoded data removed]",
            "text/plain": [
              "<Figure size 720x432 with 1 Axes>"
            ]
          },
          "metadata": {}
        }
      ]
    },
    {
      "cell_type": "code",
      "metadata": {
        "colab": {
          "base_uri": "https://localhost:8080/",
          "height": 296
        },
        "id": "LqHpbclyri_o",
        "outputId": "2969e140-cdf2-4f17-e9de-a28e5d8172a8"
      },
      "source": [
        "forecast.plot(x='ds',y='yhat')"
      ],
      "execution_count": 23,
      "outputs": [
        {
          "output_type": "execute_result",
          "data": {
            "text/plain": [
              "<matplotlib.axes._subplots.AxesSubplot at 0x7f5cf6c9cfd0>"
            ]
          },
          "metadata": {},
          "execution_count": 23
        },
        {
          "output_type": "display_data",
          "data": {
            "image/png": "[encoded data removed]",
            "text/plain": [
              "<Figure size 432x288 with 1 Axes>"
            ]
          },
          "metadata": {
            "needs_background": "light"
          }
        }
      ]
    },
    {
      "cell_type": "code",
      "metadata": {
        "colab": {
          "base_uri": "https://localhost:8080/",
          "height": 441
        },
        "id": "FVVZ0Cv0ri_o",
        "outputId": "2e5a31db-b27f-4655-ea04-e00c08568a35"
      },
      "source": [
        "m.plot_components(forecast);"
      ],
      "execution_count": 25,
      "outputs": [
        {
          "output_type": "display_data",
          "data": {
            "image/png": "[encoded data removed]",
            "text/plain": [
              "<Figure size 648x432 with 2 Axes>"
            ]
          },
          "metadata": {}
        }
      ]
    }
  ]
}