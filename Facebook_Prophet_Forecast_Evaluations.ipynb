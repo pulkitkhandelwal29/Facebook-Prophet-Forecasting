{
  "nbformat": 4,
  "nbformat_minor": 0,
  "metadata": {
    "kernelspec": {
      "display_name": "Python 3",
      "language": "python",
      "name": "python3"
    },
    "language_info": {
      "codemirror_mode": {
        "name": "ipython",
        "version": 3
      },
      "file_extension": ".py",
      "mimetype": "text/x-python",
      "name": "python",
      "nbconvert_exporter": "python",
      "pygments_lexer": "ipython3",
      "version": "3.8.5"
    },
    "colab": {
      "name": "Facebook Prophet Forecast Evaluations.ipynb",
      "provenance": [],
      "collapsed_sections": []
    },
    "widgets": {
      "application/vnd.jupyter.widget-state+json": {
        "ced5b0c478544c4ca74af5f43b3b078d": {
          "model_module": "@jupyter-widgets/controls",
          "model_name": "HBoxModel",
          "model_module_version": "1.5.0",
          "state": {
            "_view_name": "HBoxView",
            "_dom_classes": [],
            "_model_name": "HBoxModel",
            "_view_module": "@jupyter-widgets/controls",
            "_model_module_version": "1.5.0",
            "_view_count": null,
            "_view_module_version": "1.5.0",
            "box_style": "",
            "layout": "IPY_MODEL_4efa32722728425d98b32af8301ba653",
            "_model_module": "@jupyter-widgets/controls",
            "children": [
              "IPY_MODEL_f16c23960d4c4a1fa2b54dea5052a0ce",
              "IPY_MODEL_6871a8551f7d480a85413bd146cf8d14",
              "IPY_MODEL_eebf0c79c4cd4850aa08f7102cee190b"
            ]
          }
        },
        "4efa32722728425d98b32af8301ba653": {
          "model_module": "@jupyter-widgets/base",
          "model_name": "LayoutModel",
          "model_module_version": "1.2.0",
          "state": {
            "_view_name": "LayoutView",
            "grid_template_rows": null,
            "right": null,
            "justify_content": null,
            "_view_module": "@jupyter-widgets/base",
            "overflow": null,
            "_model_module_version": "1.2.0",
            "_view_count": null,
            "flex_flow": null,
            "width": null,
            "min_width": null,
            "border": null,
            "align_items": null,
            "bottom": null,
            "_model_module": "@jupyter-widgets/base",
            "top": null,
            "grid_column": null,
            "overflow_y": null,
            "overflow_x": null,
            "grid_auto_flow": null,
            "grid_area": null,
            "grid_template_columns": null,
            "flex": null,
            "_model_name": "LayoutModel",
            "justify_items": null,
            "grid_row": null,
            "max_height": null,
            "align_content": null,
            "visibility": null,
            "align_self": null,
            "height": null,
            "min_height": null,
            "padding": null,
            "grid_auto_rows": null,
            "grid_gap": null,
            "max_width": null,
            "order": null,
            "_view_module_version": "1.2.0",
            "grid_template_areas": null,
            "object_position": null,
            "object_fit": null,
            "grid_auto_columns": null,
            "margin": null,
            "display": null,
            "left": null
          }
        },
        "f16c23960d4c4a1fa2b54dea5052a0ce": {
          "model_module": "@jupyter-widgets/controls",
          "model_name": "HTMLModel",
          "model_module_version": "1.5.0",
          "state": {
            "_view_name": "HTMLView",
            "style": "IPY_MODEL_fd2844f28f8e453ba75009293b2a05a9",
            "_dom_classes": [],
            "description": "",
            "_model_name": "HTMLModel",
            "placeholder": "​",
            "_view_module": "@jupyter-widgets/controls",
            "_model_module_version": "1.5.0",
            "value": "100%",
            "_view_count": null,
            "_view_module_version": "1.5.0",
            "description_tooltip": null,
            "_model_module": "@jupyter-widgets/controls",
            "layout": "IPY_MODEL_d378381b78b042f69d1c3ba37c3a4e08"
          }
        },
        "6871a8551f7d480a85413bd146cf8d14": {
          "model_module": "@jupyter-widgets/controls",
          "model_name": "FloatProgressModel",
          "model_module_version": "1.5.0",
          "state": {
            "_view_name": "ProgressView",
            "style": "IPY_MODEL_814e0d1f664347f2857c9e6b07d29152",
            "_dom_classes": [],
            "description": "",
            "_model_name": "FloatProgressModel",
            "bar_style": "success",
            "max": 9,
            "_view_module": "@jupyter-widgets/controls",
            "_model_module_version": "1.5.0",
            "value": 9,
            "_view_count": null,
            "_view_module_version": "1.5.0",
            "orientation": "horizontal",
            "min": 0,
            "description_tooltip": null,
            "_model_module": "@jupyter-widgets/controls",
            "layout": "IPY_MODEL_8fc12795ee3f4dc89fd39bee7b10bea3"
          }
        },
        "eebf0c79c4cd4850aa08f7102cee190b": {
          "model_module": "@jupyter-widgets/controls",
          "model_name": "HTMLModel",
          "model_module_version": "1.5.0",
          "state": {
            "_view_name": "HTMLView",
            "style": "IPY_MODEL_d2582d81105745c1bf77ef9876d7a71f",
            "_dom_classes": [],
            "description": "",
            "_model_name": "HTMLModel",
            "placeholder": "​",
            "_view_module": "@jupyter-widgets/controls",
            "_model_module_version": "1.5.0",
            "value": " 9/9 [00:20&lt;00:00,  2.22s/it]",
            "_view_count": null,
            "_view_module_version": "1.5.0",
            "description_tooltip": null,
            "_model_module": "@jupyter-widgets/controls",
            "layout": "IPY_MODEL_8fec7ef6485d4bd7896e29bf8e6205b6"
          }
        },
        "fd2844f28f8e453ba75009293b2a05a9": {
          "model_module": "@jupyter-widgets/controls",
          "model_name": "DescriptionStyleModel",
          "model_module_version": "1.5.0",
          "state": {
            "_view_name": "StyleView",
            "_model_name": "DescriptionStyleModel",
            "description_width": "",
            "_view_module": "@jupyter-widgets/base",
            "_model_module_version": "1.5.0",
            "_view_count": null,
            "_view_module_version": "1.2.0",
            "_model_module": "@jupyter-widgets/controls"
          }
        },
        "d378381b78b042f69d1c3ba37c3a4e08": {
          "model_module": "@jupyter-widgets/base",
          "model_name": "LayoutModel",
          "model_module_version": "1.2.0",
          "state": {
            "_view_name": "LayoutView",
            "grid_template_rows": null,
            "right": null,
            "justify_content": null,
            "_view_module": "@jupyter-widgets/base",
            "overflow": null,
            "_model_module_version": "1.2.0",
            "_view_count": null,
            "flex_flow": null,
            "width": null,
            "min_width": null,
            "border": null,
            "align_items": null,
            "bottom": null,
            "_model_module": "@jupyter-widgets/base",
            "top": null,
            "grid_column": null,
            "overflow_y": null,
            "overflow_x": null,
            "grid_auto_flow": null,
            "grid_area": null,
            "grid_template_columns": null,
            "flex": null,
            "_model_name": "LayoutModel",
            "justify_items": null,
            "grid_row": null,
            "max_height": null,
            "align_content": null,
            "visibility": null,
            "align_self": null,
            "height": null,
            "min_height": null,
            "padding": null,
            "grid_auto_rows": null,
            "grid_gap": null,
            "max_width": null,
            "order": null,
            "_view_module_version": "1.2.0",
            "grid_template_areas": null,
            "object_position": null,
            "object_fit": null,
            "grid_auto_columns": null,
            "margin": null,
            "display": null,
            "left": null
          }
        },
        "814e0d1f664347f2857c9e6b07d29152": {
          "model_module": "@jupyter-widgets/controls",
          "model_name": "ProgressStyleModel",
          "model_module_version": "1.5.0",
          "state": {
            "_view_name": "StyleView",
            "_model_name": "ProgressStyleModel",
            "description_width": "",
            "_view_module": "@jupyter-widgets/base",
            "_model_module_version": "1.5.0",
            "_view_count": null,
            "_view_module_version": "1.2.0",
            "bar_color": null,
            "_model_module": "@jupyter-widgets/controls"
          }
        },
        "8fc12795ee3f4dc89fd39bee7b10bea3": {
          "model_module": "@jupyter-widgets/base",
          "model_name": "LayoutModel",
          "model_module_version": "1.2.0",
          "state": {
            "_view_name": "LayoutView",
            "grid_template_rows": null,
            "right": null,
            "justify_content": null,
            "_view_module": "@jupyter-widgets/base",
            "overflow": null,
            "_model_module_version": "1.2.0",
            "_view_count": null,
            "flex_flow": null,
            "width": null,
            "min_width": null,
            "border": null,
            "align_items": null,
            "bottom": null,
            "_model_module": "@jupyter-widgets/base",
            "top": null,
            "grid_column": null,
            "overflow_y": null,
            "overflow_x": null,
            "grid_auto_flow": null,
            "grid_area": null,
            "grid_template_columns": null,
            "flex": null,
            "_model_name": "LayoutModel",
            "justify_items": null,
            "grid_row": null,
            "max_height": null,
            "align_content": null,
            "visibility": null,
            "align_self": null,
            "height": null,
            "min_height": null,
            "padding": null,
            "grid_auto_rows": null,
            "grid_gap": null,
            "max_width": null,
            "order": null,
            "_view_module_version": "1.2.0",
            "grid_template_areas": null,
            "object_position": null,
            "object_fit": null,
            "grid_auto_columns": null,
            "margin": null,
            "display": null,
            "left": null
          }
        },
        "d2582d81105745c1bf77ef9876d7a71f": {
          "model_module": "@jupyter-widgets/controls",
          "model_name": "DescriptionStyleModel",
          "model_module_version": "1.5.0",
          "state": {
            "_view_name": "StyleView",
            "_model_name": "DescriptionStyleModel",
            "description_width": "",
            "_view_module": "@jupyter-widgets/base",
            "_model_module_version": "1.5.0",
            "_view_count": null,
            "_view_module_version": "1.2.0",
            "_model_module": "@jupyter-widgets/controls"
          }
        },
        "8fec7ef6485d4bd7896e29bf8e6205b6": {
          "model_module": "@jupyter-widgets/base",
          "model_name": "LayoutModel",
          "model_module_version": "1.2.0",
          "state": {
            "_view_name": "LayoutView",
            "grid_template_rows": null,
            "right": null,
            "justify_content": null,
            "_view_module": "@jupyter-widgets/base",
            "overflow": null,
            "_model_module_version": "1.2.0",
            "_view_count": null,
            "flex_flow": null,
            "width": null,
            "min_width": null,
            "border": null,
            "align_items": null,
            "bottom": null,
            "_model_module": "@jupyter-widgets/base",
            "top": null,
            "grid_column": null,
            "overflow_y": null,
            "overflow_x": null,
            "grid_auto_flow": null,
            "grid_area": null,
            "grid_template_columns": null,
            "flex": null,
            "_model_name": "LayoutModel",
            "justify_items": null,
            "grid_row": null,
            "max_height": null,
            "align_content": null,
            "visibility": null,
            "align_self": null,
            "height": null,
            "min_height": null,
            "padding": null,
            "grid_auto_rows": null,
            "grid_gap": null,
            "max_width": null,
            "order": null,
            "_view_module_version": "1.2.0",
            "grid_template_areas": null,
            "object_position": null,
            "object_fit": null,
            "grid_auto_columns": null,
            "margin": null,
            "display": null,
            "left": null
          }
        }
      }
    }
  },
  "cells": [
    {
      "cell_type": "markdown",
      "metadata": {
        "id": "ZqTXamQotzyb"
      },
      "source": [
        "# Forecast Evaluations"
      ]
    },
    {
      "cell_type": "markdown",
      "metadata": {
        "id": "xjXpIXojtzyc"
      },
      "source": [
        "### Classic Train/Test Split"
      ]
    },
    {
      "cell_type": "code",
      "metadata": {
        "id": "DSzCZPg3tzye"
      },
      "source": [
        "import pandas as pd\n",
        "from fbprophet import Prophet\n",
        "%matplotlib inline"
      ],
      "execution_count": 1,
      "outputs": []
    },
    {
      "cell_type": "code",
      "metadata": {
        "id": "g98CLWVctzyg"
      },
      "source": [
        "df = pd.read_csv('/content/Miles_Traveled.csv')"
      ],
      "execution_count": 2,
      "outputs": []
    },
    {
      "cell_type": "code",
      "metadata": {
        "colab": {
          "base_uri": "https://localhost:8080/"
        },
        "id": "-0NlfUVMtzyh",
        "outputId": "48949027-a1ac-4c30-a6d9-20324017127b"
      },
      "source": [
        "df.info()"
      ],
      "execution_count": 3,
      "outputs": [
        {
          "output_type": "stream",
          "text": [
            "<class 'pandas.core.frame.DataFrame'>\n",
            "RangeIndex: 588 entries, 0 to 587\n",
            "Data columns (total 2 columns):\n",
            " #   Column            Non-Null Count  Dtype  \n",
            "---  ------            --------------  -----  \n",
            " 0   DATE              588 non-null    object \n",
            " 1   TRFVOLUSM227NFWA  588 non-null    float64\n",
            "dtypes: float64(1), object(1)\n",
            "memory usage: 9.3+ KB\n"
          ],
          "name": "stdout"
        }
      ]
    },
    {
      "cell_type": "code",
      "metadata": {
        "colab": {
          "base_uri": "https://localhost:8080/",
          "height": 203
        },
        "id": "u-zpX-cftzyi",
        "outputId": "be6a20b1-a23b-483f-d3d7-74489c539fc0"
      },
      "source": [
        "df.head()"
      ],
      "execution_count": 4,
      "outputs": [
        {
          "output_type": "execute_result",
          "data": {
            "text/html": [
              "<div>\n",
              "<style scoped>\n",
              "    .dataframe tbody tr th:only-of-type {\n",
              "        vertical-align: middle;\n",
              "    }\n",
              "\n",
              "    .dataframe tbody tr th {\n",
              "        vertical-align: top;\n",
              "    }\n",
              "\n",
              "    .dataframe thead th {\n",
              "        text-align: right;\n",
              "    }\n",
              "</style>\n",
              "<table border=\"1\" class=\"dataframe\">\n",
              "  <thead>\n",
              "    <tr style=\"text-align: right;\">\n",
              "      <th></th>\n",
              "      <th>DATE</th>\n",
              "      <th>TRFVOLUSM227NFWA</th>\n",
              "    </tr>\n",
              "  </thead>\n",
              "  <tbody>\n",
              "    <tr>\n",
              "      <th>0</th>\n",
              "      <td>1970-01-01</td>\n",
              "      <td>80173.0</td>\n",
              "    </tr>\n",
              "    <tr>\n",
              "      <th>1</th>\n",
              "      <td>1970-02-01</td>\n",
              "      <td>77442.0</td>\n",
              "    </tr>\n",
              "    <tr>\n",
              "      <th>2</th>\n",
              "      <td>1970-03-01</td>\n",
              "      <td>90223.0</td>\n",
              "    </tr>\n",
              "    <tr>\n",
              "      <th>3</th>\n",
              "      <td>1970-04-01</td>\n",
              "      <td>89956.0</td>\n",
              "    </tr>\n",
              "    <tr>\n",
              "      <th>4</th>\n",
              "      <td>1970-05-01</td>\n",
              "      <td>97972.0</td>\n",
              "    </tr>\n",
              "  </tbody>\n",
              "</table>\n",
              "</div>"
            ],
            "text/plain": [
              "         DATE  TRFVOLUSM227NFWA\n",
              "0  1970-01-01           80173.0\n",
              "1  1970-02-01           77442.0\n",
              "2  1970-03-01           90223.0\n",
              "3  1970-04-01           89956.0\n",
              "4  1970-05-01           97972.0"
            ]
          },
          "metadata": {},
          "execution_count": 4
        }
      ]
    },
    {
      "cell_type": "code",
      "metadata": {
        "id": "Z7qWQaV9tzyj"
      },
      "source": [
        "df.columns = ['ds','y']"
      ],
      "execution_count": 5,
      "outputs": []
    },
    {
      "cell_type": "code",
      "metadata": {
        "id": "sh93jvQmtzyl"
      },
      "source": [
        "df['ds'] = pd.to_datetime(df['ds'])"
      ],
      "execution_count": 7,
      "outputs": []
    },
    {
      "cell_type": "code",
      "metadata": {
        "colab": {
          "base_uri": "https://localhost:8080/",
          "height": 203
        },
        "id": "jvbstslptzym",
        "outputId": "4c41050f-7713-4265-9db5-f65a2db45f98"
      },
      "source": [
        "df.head()"
      ],
      "execution_count": 8,
      "outputs": [
        {
          "output_type": "execute_result",
          "data": {
            "text/html": [
              "<div>\n",
              "<style scoped>\n",
              "    .dataframe tbody tr th:only-of-type {\n",
              "        vertical-align: middle;\n",
              "    }\n",
              "\n",
              "    .dataframe tbody tr th {\n",
              "        vertical-align: top;\n",
              "    }\n",
              "\n",
              "    .dataframe thead th {\n",
              "        text-align: right;\n",
              "    }\n",
              "</style>\n",
              "<table border=\"1\" class=\"dataframe\">\n",
              "  <thead>\n",
              "    <tr style=\"text-align: right;\">\n",
              "      <th></th>\n",
              "      <th>ds</th>\n",
              "      <th>y</th>\n",
              "    </tr>\n",
              "  </thead>\n",
              "  <tbody>\n",
              "    <tr>\n",
              "      <th>0</th>\n",
              "      <td>1970-01-01</td>\n",
              "      <td>80173.0</td>\n",
              "    </tr>\n",
              "    <tr>\n",
              "      <th>1</th>\n",
              "      <td>1970-02-01</td>\n",
              "      <td>77442.0</td>\n",
              "    </tr>\n",
              "    <tr>\n",
              "      <th>2</th>\n",
              "      <td>1970-03-01</td>\n",
              "      <td>90223.0</td>\n",
              "    </tr>\n",
              "    <tr>\n",
              "      <th>3</th>\n",
              "      <td>1970-04-01</td>\n",
              "      <td>89956.0</td>\n",
              "    </tr>\n",
              "    <tr>\n",
              "      <th>4</th>\n",
              "      <td>1970-05-01</td>\n",
              "      <td>97972.0</td>\n",
              "    </tr>\n",
              "  </tbody>\n",
              "</table>\n",
              "</div>"
            ],
            "text/plain": [
              "          ds        y\n",
              "0 1970-01-01  80173.0\n",
              "1 1970-02-01  77442.0\n",
              "2 1970-03-01  90223.0\n",
              "3 1970-04-01  89956.0\n",
              "4 1970-05-01  97972.0"
            ]
          },
          "metadata": {},
          "execution_count": 8
        }
      ]
    },
    {
      "cell_type": "code",
      "metadata": {
        "colab": {
          "base_uri": "https://localhost:8080/",
          "height": 405
        },
        "id": "judKC4KItzyr",
        "outputId": "cb63f1e5-9444-4deb-9dd6-2d95a4770837"
      },
      "source": [
        "df.plot(x='ds',y='y',figsize=(18,6))"
      ],
      "execution_count": 9,
      "outputs": [
        {
          "output_type": "execute_result",
          "data": {
            "text/plain": [
              "<matplotlib.axes._subplots.AxesSubplot at 0x7f64f5df8550>"
            ]
          },
          "metadata": {},
          "execution_count": 9
        },
        {
          "output_type": "display_data",
          "data": {
            "image/png": "[encoded data removed]",
            "text/plain": [
              "<Figure size 1296x432 with 1 Axes>"
            ]
          },
          "metadata": {
            "needs_background": "light"
          }
        }
      ]
    },
    {
      "cell_type": "code",
      "metadata": {
        "colab": {
          "base_uri": "https://localhost:8080/"
        },
        "id": "hlejjQZstzys",
        "outputId": "995ba5ff-4072-47de-9d16-7cda46b1f07f"
      },
      "source": [
        "len(df)"
      ],
      "execution_count": 10,
      "outputs": [
        {
          "output_type": "execute_result",
          "data": {
            "text/plain": [
              "588"
            ]
          },
          "metadata": {},
          "execution_count": 10
        }
      ]
    },
    {
      "cell_type": "code",
      "metadata": {
        "colab": {
          "base_uri": "https://localhost:8080/"
        },
        "id": "AwFjzt8etzys",
        "outputId": "e61a384b-a4b8-4008-c75e-0d9e5cde40ea"
      },
      "source": [
        "len(df) - 12"
      ],
      "execution_count": 11,
      "outputs": [
        {
          "output_type": "execute_result",
          "data": {
            "text/plain": [
              "576"
            ]
          },
          "metadata": {},
          "execution_count": 11
        }
      ]
    },
    {
      "cell_type": "code",
      "metadata": {
        "id": "CtQjEo7Dtzyt"
      },
      "source": [
        "train = df.iloc[:576]\n",
        "test = df.iloc[576:]"
      ],
      "execution_count": 12,
      "outputs": []
    },
    {
      "cell_type": "code",
      "metadata": {
        "colab": {
          "base_uri": "https://localhost:8080/"
        },
        "id": "soF68jIXtzyt",
        "outputId": "88871c74-23af-4c84-900f-a97cda5d01d8"
      },
      "source": [
        "m = Prophet()\n",
        "m.fit(train)\n",
        "future = m.make_future_dataframe(periods=12,freq='MS')\n",
        "forecast = m.predict(future)"
      ],
      "execution_count": 13,
      "outputs": [
        {
          "output_type": "stream",
          "text": [
            "INFO:numexpr.utils:NumExpr defaulting to 2 threads.\n",
            "INFO:fbprophet:Disabling weekly seasonality. Run prophet with weekly_seasonality=True to override this.\n",
            "INFO:fbprophet:Disabling daily seasonality. Run prophet with daily_seasonality=True to override this.\n"
          ],
          "name": "stderr"
        }
      ]
    },
    {
      "cell_type": "code",
      "metadata": {
        "colab": {
          "base_uri": "https://localhost:8080/",
          "height": 307
        },
        "id": "fj5JgXxotzyu",
        "outputId": "fb8372e2-3d56-461e-f060-692a13eaed98"
      },
      "source": [
        "forecast.tail()"
      ],
      "execution_count": 14,
      "outputs": [
        {
          "output_type": "execute_result",
          "data": {
            "text/html": [
              "<div>\n",
              "<style scoped>\n",
              "    .dataframe tbody tr th:only-of-type {\n",
              "        vertical-align: middle;\n",
              "    }\n",
              "\n",
              "    .dataframe tbody tr th {\n",
              "        vertical-align: top;\n",
              "    }\n",
              "\n",
              "    .dataframe thead th {\n",
              "        text-align: right;\n",
              "    }\n",
              "</style>\n",
              "<table border=\"1\" class=\"dataframe\">\n",
              "  <thead>\n",
              "    <tr style=\"text-align: right;\">\n",
              "      <th></th>\n",
              "      <th>ds</th>\n",
              "      <th>trend</th>\n",
              "      <th>yhat_lower</th>\n",
              "      <th>yhat_upper</th>\n",
              "      <th>trend_lower</th>\n",
              "      <th>trend_upper</th>\n",
              "      <th>additive_terms</th>\n",
              "      <th>additive_terms_lower</th>\n",
              "      <th>additive_terms_upper</th>\n",
              "      <th>yearly</th>\n",
              "      <th>yearly_lower</th>\n",
              "      <th>yearly_upper</th>\n",
              "      <th>multiplicative_terms</th>\n",
              "      <th>multiplicative_terms_lower</th>\n",
              "      <th>multiplicative_terms_upper</th>\n",
              "      <th>yhat</th>\n",
              "    </tr>\n",
              "  </thead>\n",
              "  <tbody>\n",
              "    <tr>\n",
              "      <th>583</th>\n",
              "      <td>2018-08-01</td>\n",
              "      <td>263457.725002</td>\n",
              "      <td>274013.992170</td>\n",
              "      <td>285769.407218</td>\n",
              "      <td>263378.233874</td>\n",
              "      <td>263505.996230</td>\n",
              "      <td>16443.644514</td>\n",
              "      <td>16443.644514</td>\n",
              "      <td>16443.644514</td>\n",
              "      <td>16443.644514</td>\n",
              "      <td>16443.644514</td>\n",
              "      <td>16443.644514</td>\n",
              "      <td>0.0</td>\n",
              "      <td>0.0</td>\n",
              "      <td>0.0</td>\n",
              "      <td>279901.369516</td>\n",
              "    </tr>\n",
              "    <tr>\n",
              "      <th>584</th>\n",
              "      <td>2018-09-01</td>\n",
              "      <td>263600.413936</td>\n",
              "      <td>256002.927482</td>\n",
              "      <td>267908.766363</td>\n",
              "      <td>263489.224237</td>\n",
              "      <td>263675.709478</td>\n",
              "      <td>-1674.285262</td>\n",
              "      <td>-1674.285262</td>\n",
              "      <td>-1674.285262</td>\n",
              "      <td>-1674.285262</td>\n",
              "      <td>-1674.285262</td>\n",
              "      <td>-1674.285262</td>\n",
              "      <td>0.0</td>\n",
              "      <td>0.0</td>\n",
              "      <td>0.0</td>\n",
              "      <td>261926.128674</td>\n",
              "    </tr>\n",
              "    <tr>\n",
              "      <th>585</th>\n",
              "      <td>2018-10-01</td>\n",
              "      <td>263738.500000</td>\n",
              "      <td>263470.671465</td>\n",
              "      <td>275083.483507</td>\n",
              "      <td>263591.879156</td>\n",
              "      <td>263845.874643</td>\n",
              "      <td>5300.999421</td>\n",
              "      <td>5300.999421</td>\n",
              "      <td>5300.999421</td>\n",
              "      <td>5300.999421</td>\n",
              "      <td>5300.999421</td>\n",
              "      <td>5300.999421</td>\n",
              "      <td>0.0</td>\n",
              "      <td>0.0</td>\n",
              "      <td>0.0</td>\n",
              "      <td>269039.499421</td>\n",
              "    </tr>\n",
              "    <tr>\n",
              "      <th>586</th>\n",
              "      <td>2018-11-01</td>\n",
              "      <td>263881.188934</td>\n",
              "      <td>249835.733644</td>\n",
              "      <td>261452.639712</td>\n",
              "      <td>263691.587747</td>\n",
              "      <td>264022.695746</td>\n",
              "      <td>-8214.645301</td>\n",
              "      <td>-8214.645301</td>\n",
              "      <td>-8214.645301</td>\n",
              "      <td>-8214.645301</td>\n",
              "      <td>-8214.645301</td>\n",
              "      <td>-8214.645301</td>\n",
              "      <td>0.0</td>\n",
              "      <td>0.0</td>\n",
              "      <td>0.0</td>\n",
              "      <td>255666.543633</td>\n",
              "    </tr>\n",
              "    <tr>\n",
              "      <th>587</th>\n",
              "      <td>2018-12-01</td>\n",
              "      <td>264019.274999</td>\n",
              "      <td>250577.884292</td>\n",
              "      <td>262436.634687</td>\n",
              "      <td>263800.242781</td>\n",
              "      <td>264190.675237</td>\n",
              "      <td>-6925.081926</td>\n",
              "      <td>-6925.081926</td>\n",
              "      <td>-6925.081926</td>\n",
              "      <td>-6925.081926</td>\n",
              "      <td>-6925.081926</td>\n",
              "      <td>-6925.081926</td>\n",
              "      <td>0.0</td>\n",
              "      <td>0.0</td>\n",
              "      <td>0.0</td>\n",
              "      <td>257094.193073</td>\n",
              "    </tr>\n",
              "  </tbody>\n",
              "</table>\n",
              "</div>"
            ],
            "text/plain": [
              "            ds          trend  ...  multiplicative_terms_upper           yhat\n",
              "583 2018-08-01  263457.725002  ...                         0.0  279901.369516\n",
              "584 2018-09-01  263600.413936  ...                         0.0  261926.128674\n",
              "585 2018-10-01  263738.500000  ...                         0.0  269039.499421\n",
              "586 2018-11-01  263881.188934  ...                         0.0  255666.543633\n",
              "587 2018-12-01  264019.274999  ...                         0.0  257094.193073\n",
              "\n",
              "[5 rows x 16 columns]"
            ]
          },
          "metadata": {},
          "execution_count": 14
        }
      ]
    },
    {
      "cell_type": "code",
      "metadata": {
        "colab": {
          "base_uri": "https://localhost:8080/",
          "height": 203
        },
        "id": "34USfEvvtzyu",
        "outputId": "25ae099a-e8d3-4d39-f217-79edd7306d72"
      },
      "source": [
        "test.tail()"
      ],
      "execution_count": 15,
      "outputs": [
        {
          "output_type": "execute_result",
          "data": {
            "text/html": [
              "<div>\n",
              "<style scoped>\n",
              "    .dataframe tbody tr th:only-of-type {\n",
              "        vertical-align: middle;\n",
              "    }\n",
              "\n",
              "    .dataframe tbody tr th {\n",
              "        vertical-align: top;\n",
              "    }\n",
              "\n",
              "    .dataframe thead th {\n",
              "        text-align: right;\n",
              "    }\n",
              "</style>\n",
              "<table border=\"1\" class=\"dataframe\">\n",
              "  <thead>\n",
              "    <tr style=\"text-align: right;\">\n",
              "      <th></th>\n",
              "      <th>ds</th>\n",
              "      <th>y</th>\n",
              "    </tr>\n",
              "  </thead>\n",
              "  <tbody>\n",
              "    <tr>\n",
              "      <th>583</th>\n",
              "      <td>2018-08-01</td>\n",
              "      <td>286608.0</td>\n",
              "    </tr>\n",
              "    <tr>\n",
              "      <th>584</th>\n",
              "      <td>2018-09-01</td>\n",
              "      <td>260595.0</td>\n",
              "    </tr>\n",
              "    <tr>\n",
              "      <th>585</th>\n",
              "      <td>2018-10-01</td>\n",
              "      <td>282174.0</td>\n",
              "    </tr>\n",
              "    <tr>\n",
              "      <th>586</th>\n",
              "      <td>2018-11-01</td>\n",
              "      <td>258590.0</td>\n",
              "    </tr>\n",
              "    <tr>\n",
              "      <th>587</th>\n",
              "      <td>2018-12-01</td>\n",
              "      <td>268413.0</td>\n",
              "    </tr>\n",
              "  </tbody>\n",
              "</table>\n",
              "</div>"
            ],
            "text/plain": [
              "            ds         y\n",
              "583 2018-08-01  286608.0\n",
              "584 2018-09-01  260595.0\n",
              "585 2018-10-01  282174.0\n",
              "586 2018-11-01  258590.0\n",
              "587 2018-12-01  268413.0"
            ]
          },
          "metadata": {},
          "execution_count": 15
        }
      ]
    },
    {
      "cell_type": "markdown",
      "metadata": {
        "id": "f5L4-38wtzyv"
      },
      "source": [
        "[Info on ax= parameter](https://stackoverflow.com/questions/13872533/plot-different-dataframes-in-the-same-figure)"
      ]
    },
    {
      "cell_type": "code",
      "metadata": {
        "colab": {
          "base_uri": "https://localhost:8080/",
          "height": 525
        },
        "id": "9unpCpZJtzyv",
        "outputId": "40b38adc-57b7-4706-8ef7-a99d5a23a026"
      },
      "source": [
        "ax = forecast.plot(x='ds',y='yhat',label='Predictions',legend=True,figsize=(12,8))\n",
        "\n",
        "test.plot(x='ds',y='y',label='True Miles',legend=True,ax=ax,xlim=('2018-01-01','2019-01-01'))"
      ],
      "execution_count": 16,
      "outputs": [
        {
          "output_type": "execute_result",
          "data": {
            "text/plain": [
              "<matplotlib.axes._subplots.AxesSubplot at 0x7f64db8ff790>"
            ]
          },
          "metadata": {},
          "execution_count": 16
        },
        {
          "output_type": "display_data",
          "data": {
            "image/png": "[encoded data removed]",
            "text/plain": [
              "<Figure size 864x576 with 1 Axes>"
            ]
          },
          "metadata": {
            "needs_background": "light"
          }
        }
      ]
    },
    {
      "cell_type": "markdown",
      "metadata": {
        "id": "Q5-owKECuTnG"
      },
      "source": [
        "### Evaluation"
      ]
    },
    {
      "cell_type": "code",
      "metadata": {
        "id": "D83ei9frtzyw"
      },
      "source": [
        "from statsmodels.tools.eval_measures import rmse"
      ],
      "execution_count": 19,
      "outputs": []
    },
    {
      "cell_type": "code",
      "metadata": {
        "id": "vCOx1KVdtzyw"
      },
      "source": [
        "predictions = forecast.iloc[-12:]['yhat']"
      ],
      "execution_count": 20,
      "outputs": []
    },
    {
      "cell_type": "code",
      "metadata": {
        "colab": {
          "base_uri": "https://localhost:8080/"
        },
        "id": "tBGmM9Tutzyw",
        "outputId": "0914eedb-affa-4a76-c660-663e19d12df9"
      },
      "source": [
        "predictions"
      ],
      "execution_count": 21,
      "outputs": [
        {
          "output_type": "execute_result",
          "data": {
            "text/plain": [
              "576    243890.540695\n",
              "577    235518.185920\n",
              "578    262721.044615\n",
              "579    262926.543476\n",
              "580    272653.963220\n",
              "581    272904.801470\n",
              "582    279365.372083\n",
              "583    279901.369516\n",
              "584    261926.128674\n",
              "585    269039.499421\n",
              "586    255666.543633\n",
              "587    257094.193073\n",
              "Name: yhat, dtype: float64"
            ]
          },
          "metadata": {},
          "execution_count": 21
        }
      ]
    },
    {
      "cell_type": "code",
      "metadata": {
        "colab": {
          "base_uri": "https://localhost:8080/"
        },
        "id": "3m40Tk5xtzyw",
        "outputId": "348941d3-daa5-4e90-d714-f2bdca2cb7d5"
      },
      "source": [
        "test['y']"
      ],
      "execution_count": 22,
      "outputs": [
        {
          "output_type": "execute_result",
          "data": {
            "text/plain": [
              "576    245695.0\n",
              "577    226660.0\n",
              "578    268480.0\n",
              "579    272475.0\n",
              "580    286164.0\n",
              "581    280877.0\n",
              "582    288145.0\n",
              "583    286608.0\n",
              "584    260595.0\n",
              "585    282174.0\n",
              "586    258590.0\n",
              "587    268413.0\n",
              "Name: y, dtype: float64"
            ]
          },
          "metadata": {},
          "execution_count": 22
        }
      ]
    },
    {
      "cell_type": "code",
      "metadata": {
        "colab": {
          "base_uri": "https://localhost:8080/"
        },
        "id": "u3SLAI57tzyx",
        "outputId": "c968463a-fb12-4dac-8269-74f1e7e7ad52"
      },
      "source": [
        "rmse(predictions,test['y'])"
      ],
      "execution_count": 23,
      "outputs": [
        {
          "output_type": "execute_result",
          "data": {
            "text/plain": [
              "8588.50451989775"
            ]
          },
          "metadata": {},
          "execution_count": 23
        }
      ]
    },
    {
      "cell_type": "code",
      "metadata": {
        "colab": {
          "base_uri": "https://localhost:8080/"
        },
        "id": "qQn2SAMktzyx",
        "outputId": "cdc9cc05-f605-4506-cf0b-570d7c2a57b0"
      },
      "source": [
        "test.mean()"
      ],
      "execution_count": 25,
      "outputs": [
        {
          "output_type": "stream",
          "text": [
            "/usr/local/lib/python3.7/dist-packages/ipykernel_launcher.py:1: FutureWarning:\n",
            "\n",
            "DataFrame.mean and DataFrame.median with numeric_only=None will include datetime64 and datetime64tz columns in a future version.\n",
            "\n"
          ],
          "name": "stderr"
        },
        {
          "output_type": "execute_result",
          "data": {
            "text/plain": [
              "y    268739.666667\n",
              "dtype: float64"
            ]
          },
          "metadata": {},
          "execution_count": 25
        }
      ]
    },
    {
      "cell_type": "markdown",
      "metadata": {
        "id": "IZBv4lnwtzyx"
      },
      "source": [
        "# Prophet Diagnostics\n",
        "\n",
        "Prophet includes functionality for time series cross validation to measure forecast error using historical data. This is done by selecting cutoff points in the history, and for each of them fitting the model using data only up to that cutoff point. We can then compare the forecasted values to the actual values."
      ]
    },
    {
      "cell_type": "code",
      "metadata": {
        "id": "kOJriiIstzyx"
      },
      "source": [
        "from fbprophet.diagnostics import cross_validation,performance_metrics\n",
        "from fbprophet.plot import plot_cross_validation_metric"
      ],
      "execution_count": 26,
      "outputs": []
    },
    {
      "cell_type": "code",
      "metadata": {
        "colab": {
          "base_uri": "https://localhost:8080/"
        },
        "id": "axlNQt0Etzyy",
        "outputId": "601ea67a-7f73-40d0-a3b4-6d6cd0f36ea8"
      },
      "source": [
        "len(df)"
      ],
      "execution_count": 27,
      "outputs": [
        {
          "output_type": "execute_result",
          "data": {
            "text/plain": [
              "588"
            ]
          },
          "metadata": {},
          "execution_count": 27
        }
      ]
    },
    {
      "cell_type": "code",
      "metadata": {
        "colab": {
          "base_uri": "https://localhost:8080/"
        },
        "id": "yNCwe6-Ytzyy",
        "outputId": "519d44c5-6d06-4316-8ec2-259e9b01f138"
      },
      "source": [
        "len(df)/12"
      ],
      "execution_count": 28,
      "outputs": [
        {
          "output_type": "execute_result",
          "data": {
            "text/plain": [
              "49.0"
            ]
          },
          "metadata": {},
          "execution_count": 28
        }
      ]
    },
    {
      "cell_type": "markdown",
      "metadata": {
        "id": "n4ibeVsptzyy"
      },
      "source": [
        "The initial period should be long enough to capture all of the components of the model, in particular seasonalities and extra regressors: at least a year for yearly seasonality, at least a week for weekly seasonality, etc."
      ]
    },
    {
      "cell_type": "code",
      "metadata": {
        "id": "opo1kEggtzyy"
      },
      "source": [
        "# help(pd.Timedelta)"
      ],
      "execution_count": 29,
      "outputs": []
    },
    {
      "cell_type": "code",
      "metadata": {
        "id": "SEbvpStVtzyz"
      },
      "source": [
        "# Initial 5 years training period (need to be in the same format as prophet requires this)\n",
        "initial = 5 * 365\n",
        "initial = str(initial) + ' days'\n",
        "# Fold every 5 years\n",
        "period = 5 * 365\n",
        "period = str(period) + ' days'\n",
        "# Forecast 1 year into the future\n",
        "horizon = 365\n",
        "horizon = str(horizon) + ' days'"
      ],
      "execution_count": 30,
      "outputs": []
    },
    {
      "cell_type": "code",
      "metadata": {
        "colab": {
          "base_uri": "https://localhost:8080/",
          "height": 66,
          "referenced_widgets": [
            "ced5b0c478544c4ca74af5f43b3b078d",
            "4efa32722728425d98b32af8301ba653",
            "f16c23960d4c4a1fa2b54dea5052a0ce",
            "6871a8551f7d480a85413bd146cf8d14",
            "eebf0c79c4cd4850aa08f7102cee190b",
            "fd2844f28f8e453ba75009293b2a05a9",
            "d378381b78b042f69d1c3ba37c3a4e08",
            "814e0d1f664347f2857c9e6b07d29152",
            "8fc12795ee3f4dc89fd39bee7b10bea3",
            "d2582d81105745c1bf77ef9876d7a71f",
            "8fec7ef6485d4bd7896e29bf8e6205b6"
          ]
        },
        "id": "R3aWn6Eutzyz",
        "outputId": "e8cc08e2-f085-4d88-b396-f12554a2d253"
      },
      "source": [
        "df_cv = cross_validation(m, initial=initial, period=period, horizon = horizon)"
      ],
      "execution_count": 31,
      "outputs": [
        {
          "output_type": "stream",
          "text": [
            "INFO:fbprophet:Making 9 forecasts with cutoffs between 1976-12-11 00:00:00 and 2016-12-01 00:00:00\n"
          ],
          "name": "stderr"
        },
        {
          "output_type": "display_data",
          "data": {
            "application/vnd.jupyter.widget-view+json": {
              "model_id": "ced5b0c478544c4ca74af5f43b3b078d",
              "version_minor": 0,
              "version_major": 2
            },
            "text/plain": [
              "  0%|          | 0/9 [00:00<?, ?it/s]"
            ]
          },
          "metadata": {}
        }
      ]
    },
    {
      "cell_type": "code",
      "metadata": {
        "colab": {
          "base_uri": "https://localhost:8080/",
          "height": 203
        },
        "id": "tdwvChgwtzyz",
        "outputId": "41a36a95-928b-4a8a-a40c-e15e5cbb5b83"
      },
      "source": [
        "df_cv.head()"
      ],
      "execution_count": 32,
      "outputs": [
        {
          "output_type": "execute_result",
          "data": {
            "text/html": [
              "<div>\n",
              "<style scoped>\n",
              "    .dataframe tbody tr th:only-of-type {\n",
              "        vertical-align: middle;\n",
              "    }\n",
              "\n",
              "    .dataframe tbody tr th {\n",
              "        vertical-align: top;\n",
              "    }\n",
              "\n",
              "    .dataframe thead th {\n",
              "        text-align: right;\n",
              "    }\n",
              "</style>\n",
              "<table border=\"1\" class=\"dataframe\">\n",
              "  <thead>\n",
              "    <tr style=\"text-align: right;\">\n",
              "      <th></th>\n",
              "      <th>ds</th>\n",
              "      <th>yhat</th>\n",
              "      <th>yhat_lower</th>\n",
              "      <th>yhat_upper</th>\n",
              "      <th>y</th>\n",
              "      <th>cutoff</th>\n",
              "    </tr>\n",
              "  </thead>\n",
              "  <tbody>\n",
              "    <tr>\n",
              "      <th>0</th>\n",
              "      <td>1977-01-01</td>\n",
              "      <td>108479.087478</td>\n",
              "      <td>106967.187764</td>\n",
              "      <td>109843.933331</td>\n",
              "      <td>102445.0</td>\n",
              "      <td>1976-12-11</td>\n",
              "    </tr>\n",
              "    <tr>\n",
              "      <th>1</th>\n",
              "      <td>1977-02-01</td>\n",
              "      <td>102996.111557</td>\n",
              "      <td>101645.535499</td>\n",
              "      <td>104579.680796</td>\n",
              "      <td>102416.0</td>\n",
              "      <td>1976-12-11</td>\n",
              "    </tr>\n",
              "    <tr>\n",
              "      <th>2</th>\n",
              "      <td>1977-03-01</td>\n",
              "      <td>118973.318267</td>\n",
              "      <td>117550.982223</td>\n",
              "      <td>120274.442439</td>\n",
              "      <td>119960.0</td>\n",
              "      <td>1976-12-11</td>\n",
              "    </tr>\n",
              "    <tr>\n",
              "      <th>3</th>\n",
              "      <td>1977-04-01</td>\n",
              "      <td>120612.923861</td>\n",
              "      <td>119220.759127</td>\n",
              "      <td>122165.750237</td>\n",
              "      <td>121513.0</td>\n",
              "      <td>1976-12-11</td>\n",
              "    </tr>\n",
              "    <tr>\n",
              "      <th>4</th>\n",
              "      <td>1977-05-01</td>\n",
              "      <td>127883.031986</td>\n",
              "      <td>126331.621050</td>\n",
              "      <td>129374.254694</td>\n",
              "      <td>128884.0</td>\n",
              "      <td>1976-12-11</td>\n",
              "    </tr>\n",
              "  </tbody>\n",
              "</table>\n",
              "</div>"
            ],
            "text/plain": [
              "          ds           yhat     yhat_lower     yhat_upper         y     cutoff\n",
              "0 1977-01-01  108479.087478  106967.187764  109843.933331  102445.0 1976-12-11\n",
              "1 1977-02-01  102996.111557  101645.535499  104579.680796  102416.0 1976-12-11\n",
              "2 1977-03-01  118973.318267  117550.982223  120274.442439  119960.0 1976-12-11\n",
              "3 1977-04-01  120612.923861  119220.759127  122165.750237  121513.0 1976-12-11\n",
              "4 1977-05-01  127883.031986  126331.621050  129374.254694  128884.0 1976-12-11"
            ]
          },
          "metadata": {},
          "execution_count": 32
        }
      ]
    },
    {
      "cell_type": "code",
      "metadata": {
        "colab": {
          "base_uri": "https://localhost:8080/",
          "height": 203
        },
        "id": "5UD1TI7Ztzyz",
        "outputId": "b7b59f0b-7a28-432c-e630-b4e1b7b11a57"
      },
      "source": [
        "df_cv.tail()"
      ],
      "execution_count": 33,
      "outputs": [
        {
          "output_type": "execute_result",
          "data": {
            "text/html": [
              "<div>\n",
              "<style scoped>\n",
              "    .dataframe tbody tr th:only-of-type {\n",
              "        vertical-align: middle;\n",
              "    }\n",
              "\n",
              "    .dataframe tbody tr th {\n",
              "        vertical-align: top;\n",
              "    }\n",
              "\n",
              "    .dataframe thead th {\n",
              "        text-align: right;\n",
              "    }\n",
              "</style>\n",
              "<table border=\"1\" class=\"dataframe\">\n",
              "  <thead>\n",
              "    <tr style=\"text-align: right;\">\n",
              "      <th></th>\n",
              "      <th>ds</th>\n",
              "      <th>yhat</th>\n",
              "      <th>yhat_lower</th>\n",
              "      <th>yhat_upper</th>\n",
              "      <th>y</th>\n",
              "      <th>cutoff</th>\n",
              "    </tr>\n",
              "  </thead>\n",
              "  <tbody>\n",
              "    <tr>\n",
              "      <th>103</th>\n",
              "      <td>2017-08-01</td>\n",
              "      <td>273412.916090</td>\n",
              "      <td>267497.129573</td>\n",
              "      <td>279277.080245</td>\n",
              "      <td>283184.0</td>\n",
              "      <td>2016-12-01</td>\n",
              "    </tr>\n",
              "    <tr>\n",
              "      <th>104</th>\n",
              "      <td>2017-09-01</td>\n",
              "      <td>255533.787611</td>\n",
              "      <td>249605.201037</td>\n",
              "      <td>261020.343846</td>\n",
              "      <td>262673.0</td>\n",
              "      <td>2016-12-01</td>\n",
              "    </tr>\n",
              "    <tr>\n",
              "      <th>105</th>\n",
              "      <td>2017-10-01</td>\n",
              "      <td>262639.269752</td>\n",
              "      <td>257093.139700</td>\n",
              "      <td>268478.360746</td>\n",
              "      <td>278937.0</td>\n",
              "      <td>2016-12-01</td>\n",
              "    </tr>\n",
              "    <tr>\n",
              "      <th>106</th>\n",
              "      <td>2017-11-01</td>\n",
              "      <td>249291.849819</td>\n",
              "      <td>243697.823635</td>\n",
              "      <td>254738.382725</td>\n",
              "      <td>257712.0</td>\n",
              "      <td>2016-12-01</td>\n",
              "    </tr>\n",
              "    <tr>\n",
              "      <th>107</th>\n",
              "      <td>2017-12-01</td>\n",
              "      <td>250540.244359</td>\n",
              "      <td>244994.873083</td>\n",
              "      <td>256066.778542</td>\n",
              "      <td>266535.0</td>\n",
              "      <td>2016-12-01</td>\n",
              "    </tr>\n",
              "  </tbody>\n",
              "</table>\n",
              "</div>"
            ],
            "text/plain": [
              "            ds           yhat  ...         y     cutoff\n",
              "103 2017-08-01  273412.916090  ...  283184.0 2016-12-01\n",
              "104 2017-09-01  255533.787611  ...  262673.0 2016-12-01\n",
              "105 2017-10-01  262639.269752  ...  278937.0 2016-12-01\n",
              "106 2017-11-01  249291.849819  ...  257712.0 2016-12-01\n",
              "107 2017-12-01  250540.244359  ...  266535.0 2016-12-01\n",
              "\n",
              "[5 rows x 6 columns]"
            ]
          },
          "metadata": {},
          "execution_count": 33
        }
      ]
    },
    {
      "cell_type": "code",
      "metadata": {
        "colab": {
          "base_uri": "https://localhost:8080/",
          "height": 417
        },
        "id": "fS1FglW_tzyz",
        "outputId": "6b99677b-d067-43f8-90c5-611321faeb55"
      },
      "source": [
        "performance_metrics(df_cv)"
      ],
      "execution_count": 34,
      "outputs": [
        {
          "output_type": "execute_result",
          "data": {
            "text/html": [
              "<div>\n",
              "<style scoped>\n",
              "    .dataframe tbody tr th:only-of-type {\n",
              "        vertical-align: middle;\n",
              "    }\n",
              "\n",
              "    .dataframe tbody tr th {\n",
              "        vertical-align: top;\n",
              "    }\n",
              "\n",
              "    .dataframe thead th {\n",
              "        text-align: right;\n",
              "    }\n",
              "</style>\n",
              "<table border=\"1\" class=\"dataframe\">\n",
              "  <thead>\n",
              "    <tr style=\"text-align: right;\">\n",
              "      <th></th>\n",
              "      <th>horizon</th>\n",
              "      <th>mse</th>\n",
              "      <th>rmse</th>\n",
              "      <th>mae</th>\n",
              "      <th>mape</th>\n",
              "      <th>mdape</th>\n",
              "      <th>coverage</th>\n",
              "    </tr>\n",
              "  </thead>\n",
              "  <tbody>\n",
              "    <tr>\n",
              "      <th>0</th>\n",
              "      <td>52 days</td>\n",
              "      <td>2.430030e+07</td>\n",
              "      <td>4929.533140</td>\n",
              "      <td>4534.578066</td>\n",
              "      <td>0.027790</td>\n",
              "      <td>0.023419</td>\n",
              "      <td>0.4</td>\n",
              "    </tr>\n",
              "    <tr>\n",
              "      <th>1</th>\n",
              "      <td>53 days</td>\n",
              "      <td>2.180221e+07</td>\n",
              "      <td>4669.283718</td>\n",
              "      <td>4269.242480</td>\n",
              "      <td>0.025045</td>\n",
              "      <td>0.023419</td>\n",
              "      <td>0.4</td>\n",
              "    </tr>\n",
              "    <tr>\n",
              "      <th>2</th>\n",
              "      <td>54 days</td>\n",
              "      <td>1.835927e+07</td>\n",
              "      <td>4284.771500</td>\n",
              "      <td>3749.319270</td>\n",
              "      <td>0.020183</td>\n",
              "      <td>0.022331</td>\n",
              "      <td>0.5</td>\n",
              "    </tr>\n",
              "    <tr>\n",
              "      <th>3</th>\n",
              "      <td>55 days</td>\n",
              "      <td>2.318231e+07</td>\n",
              "      <td>4814.801050</td>\n",
              "      <td>4262.593972</td>\n",
              "      <td>0.023194</td>\n",
              "      <td>0.023419</td>\n",
              "      <td>0.4</td>\n",
              "    </tr>\n",
              "    <tr>\n",
              "      <th>4</th>\n",
              "      <td>57 days</td>\n",
              "      <td>2.101189e+07</td>\n",
              "      <td>4583.872792</td>\n",
              "      <td>4000.766561</td>\n",
              "      <td>0.021482</td>\n",
              "      <td>0.022331</td>\n",
              "      <td>0.5</td>\n",
              "    </tr>\n",
              "    <tr>\n",
              "      <th>...</th>\n",
              "      <td>...</td>\n",
              "      <td>...</td>\n",
              "      <td>...</td>\n",
              "      <td>...</td>\n",
              "      <td>...</td>\n",
              "      <td>...</td>\n",
              "      <td>...</td>\n",
              "    </tr>\n",
              "    <tr>\n",
              "      <th>94</th>\n",
              "      <td>360 days</td>\n",
              "      <td>1.833685e+07</td>\n",
              "      <td>4282.155252</td>\n",
              "      <td>3750.317263</td>\n",
              "      <td>0.019550</td>\n",
              "      <td>0.019595</td>\n",
              "      <td>0.5</td>\n",
              "    </tr>\n",
              "    <tr>\n",
              "      <th>95</th>\n",
              "      <td>361 days</td>\n",
              "      <td>1.744517e+07</td>\n",
              "      <td>4176.741529</td>\n",
              "      <td>3472.704963</td>\n",
              "      <td>0.018164</td>\n",
              "      <td>0.018940</td>\n",
              "      <td>0.5</td>\n",
              "    </tr>\n",
              "    <tr>\n",
              "      <th>96</th>\n",
              "      <td>362 days</td>\n",
              "      <td>3.175299e+07</td>\n",
              "      <td>5634.978870</td>\n",
              "      <td>4397.649029</td>\n",
              "      <td>0.021959</td>\n",
              "      <td>0.024754</td>\n",
              "      <td>0.4</td>\n",
              "    </tr>\n",
              "    <tr>\n",
              "      <th>97</th>\n",
              "      <td>364 days</td>\n",
              "      <td>3.001684e+07</td>\n",
              "      <td>5478.762932</td>\n",
              "      <td>4235.776363</td>\n",
              "      <td>0.021356</td>\n",
              "      <td>0.021737</td>\n",
              "      <td>0.5</td>\n",
              "    </tr>\n",
              "    <tr>\n",
              "      <th>98</th>\n",
              "      <td>365 days</td>\n",
              "      <td>5.523459e+07</td>\n",
              "      <td>7431.997545</td>\n",
              "      <td>5644.077514</td>\n",
              "      <td>0.026561</td>\n",
              "      <td>0.024754</td>\n",
              "      <td>0.4</td>\n",
              "    </tr>\n",
              "  </tbody>\n",
              "</table>\n",
              "<p>99 rows × 7 columns</p>\n",
              "</div>"
            ],
            "text/plain": [
              "    horizon           mse         rmse  ...      mape     mdape  coverage\n",
              "0   52 days  2.430030e+07  4929.533140  ...  0.027790  0.023419       0.4\n",
              "1   53 days  2.180221e+07  4669.283718  ...  0.025045  0.023419       0.4\n",
              "2   54 days  1.835927e+07  4284.771500  ...  0.020183  0.022331       0.5\n",
              "3   55 days  2.318231e+07  4814.801050  ...  0.023194  0.023419       0.4\n",
              "4   57 days  2.101189e+07  4583.872792  ...  0.021482  0.022331       0.5\n",
              "..      ...           ...          ...  ...       ...       ...       ...\n",
              "94 360 days  1.833685e+07  4282.155252  ...  0.019550  0.019595       0.5\n",
              "95 361 days  1.744517e+07  4176.741529  ...  0.018164  0.018940       0.5\n",
              "96 362 days  3.175299e+07  5634.978870  ...  0.021959  0.024754       0.4\n",
              "97 364 days  3.001684e+07  5478.762932  ...  0.021356  0.021737       0.5\n",
              "98 365 days  5.523459e+07  7431.997545  ...  0.026561  0.024754       0.4\n",
              "\n",
              "[99 rows x 7 columns]"
            ]
          },
          "metadata": {},
          "execution_count": 34
        }
      ]
    },
    {
      "cell_type": "code",
      "metadata": {
        "colab": {
          "base_uri": "https://localhost:8080/",
          "height": 388
        },
        "id": "m-R8aRGxtzy0",
        "outputId": "d6b5d5ad-8046-4bde-ad0e-ac5e32a0847f"
      },
      "source": [
        "plot_cross_validation_metric(df_cv, metric='rmse');"
      ],
      "execution_count": 35,
      "outputs": [
        {
          "output_type": "display_data",
          "data": {
            "image/png": "[encoded data removed]",
            "text/plain": [
              "<Figure size 720x432 with 1 Axes>"
            ]
          },
          "metadata": {}
        }
      ]
    },
    {
      "cell_type": "markdown",
      "metadata": {
        "id": "zg_tRSkGtzy0"
      },
      "source": [
        "MAPE is Mean Absolute Percentage Error\n",
        "\n",
        "https://en.wikipedia.org/wiki/Mean_absolute_percentage_error"
      ]
    },
    {
      "cell_type": "code",
      "metadata": {
        "colab": {
          "base_uri": "https://localhost:8080/",
          "height": 388
        },
        "id": "oGWNp_82tzy0",
        "outputId": "4b7a2615-009b-40ce-91ea-d1530f7434d2"
      },
      "source": [
        "plot_cross_validation_metric(df_cv, metric='mape');"
      ],
      "execution_count": 36,
      "outputs": [
        {
          "output_type": "display_data",
          "data": {
            "image/png": "[encoded data removed]",
            "text/plain": [
              "<Figure size 720x432 with 1 Axes>"
            ]
          },
          "metadata": {}
        }
      ]
    }
  ]
}